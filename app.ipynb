{
 "cells": [
  {
   "cell_type": "code",
   "execution_count": 86,
   "metadata": {},
   "outputs": [
    {
     "name": "stdout",
     "output_type": "stream",
     "text": [
      "Defaulting to user installation because normal site-packages is not writeable\n",
      "Requirement already satisfied: requests in /home/gumeta/.local/lib/python3.10/site-packages (2.31.0)\n",
      "Requirement already satisfied: bs4 in /home/gumeta/.local/lib/python3.10/site-packages (0.0.1)\n",
      "Requirement already satisfied: openpyxl in /home/gumeta/.local/lib/python3.10/site-packages (3.1.2)\n",
      "Requirement already satisfied: plotly_express in /home/gumeta/.local/lib/python3.10/site-packages (0.4.1)\n",
      "Requirement already satisfied: urllib3<3,>=1.21.1 in /usr/lib/python3/dist-packages (from requests) (1.26.5)\n",
      "Requirement already satisfied: idna<4,>=2.5 in /usr/lib/python3/dist-packages (from requests) (3.3)\n",
      "Requirement already satisfied: certifi>=2017.4.17 in /home/gumeta/.local/lib/python3.10/site-packages (from requests) (2023.7.22)\n",
      "Requirement already satisfied: charset-normalizer<4,>=2 in /home/gumeta/.local/lib/python3.10/site-packages (from requests) (3.2.0)\n",
      "Requirement already satisfied: beautifulsoup4 in /home/gumeta/.local/lib/python3.10/site-packages (from bs4) (4.12.2)\n",
      "Requirement already satisfied: et-xmlfile in /home/gumeta/.local/lib/python3.10/site-packages (from openpyxl) (1.1.0)\n",
      "Requirement already satisfied: statsmodels>=0.9.0 in /home/gumeta/.local/lib/python3.10/site-packages (from plotly_express) (0.14.0)\n",
      "Requirement already satisfied: patsy>=0.5 in /home/gumeta/.local/lib/python3.10/site-packages (from plotly_express) (0.5.3)\n",
      "Requirement already satisfied: numpy>=1.11 in /home/gumeta/.local/lib/python3.10/site-packages (from plotly_express) (1.26.0)\n",
      "Requirement already satisfied: plotly>=4.1.0 in /home/gumeta/.local/lib/python3.10/site-packages (from plotly_express) (5.17.0)\n",
      "Requirement already satisfied: scipy>=0.18 in /home/gumeta/.local/lib/python3.10/site-packages (from plotly_express) (1.11.2)\n",
      "Requirement already satisfied: pandas>=0.20.0 in /home/gumeta/.local/lib/python3.10/site-packages (from plotly_express) (2.1.1)\n",
      "Requirement already satisfied: python-dateutil>=2.8.2 in /home/gumeta/.local/lib/python3.10/site-packages (from pandas>=0.20.0->plotly_express) (2.8.2)\n",
      "Requirement already satisfied: tzdata>=2022.1 in /home/gumeta/.local/lib/python3.10/site-packages (from pandas>=0.20.0->plotly_express) (2023.3)\n",
      "Requirement already satisfied: pytz>=2020.1 in /usr/lib/python3/dist-packages (from pandas>=0.20.0->plotly_express) (2022.1)\n",
      "Requirement already satisfied: six in /usr/lib/python3/dist-packages (from patsy>=0.5->plotly_express) (1.16.0)\n",
      "Requirement already satisfied: tenacity>=6.2.0 in /home/gumeta/.local/lib/python3.10/site-packages (from plotly>=4.1.0->plotly_express) (8.2.3)\n",
      "Requirement already satisfied: packaging in /home/gumeta/.local/lib/python3.10/site-packages (from plotly>=4.1.0->plotly_express) (23.1)\n",
      "Requirement already satisfied: soupsieve>1.2 in /home/gumeta/.local/lib/python3.10/site-packages (from beautifulsoup4->bs4) (2.5)\n",
      "Defaulting to user installation because normal site-packages is not writeable\n",
      "Requirement already satisfied: kaleido in /home/gumeta/.local/lib/python3.10/site-packages (0.2.1)\n"
     ]
    }
   ],
   "source": [
    "!pip3 install requests bs4 openpyxl plotly_express\n",
    "!pip3 install -U kaleido"
   ]
  },
  {
   "cell_type": "code",
   "execution_count": 2,
   "metadata": {},
   "outputs": [],
   "source": [
    "# ---------------------------------------- Coleta de Dados (Raspagem) ---------------------------------------\n",
    "\n",
    "from selenium import webdriver                  # Simula o uso do navegador\n",
    "from selenium.webdriver.common.by import By     # Permite encontrar informações dentro de sites\n",
    "import openpyxl                 # Permite criar e manipular planilhas do excel\n",
    "import pandas as pd             # Abrir e manipular arquivos em excel\n",
    "\n",
    "# ---------------------------------------- Análise de Dados (Gráfico) ---------------------------------------\n",
    "\n",
    "import plotly.express as px     # Gerar gráficos interativos\n",
    "import plotly                   # Usado para baixar o gráfico"
   ]
  },
  {
   "cell_type": "code",
   "execution_count": 88,
   "metadata": {},
   "outputs": [],
   "source": [
    "# URL do site que será feito o scraping\n",
    "url = 'https://www.kabum.com.br/computadores/monitores/monitor-gamer'\n",
    "\n",
    "# Cria uma planilha do excel para armazenar os dados (database.xlsx)\n",
    "planilha = openpyxl.Workbook()\n",
    "\n",
    "# Cria uma página na planilha (monitores)\n",
    "planilha.create_sheet('monitores')\n",
    "\n",
    "# Seleciona a página criada e insere os títulos das colunas\n",
    "sheet_monitores = planilha['monitores']\n",
    "sheet_monitores['A1'].value = 'Nome do Monitor'\n",
    "sheet_monitores['B1'].value = 'Preço'\n",
    "\n",
    "# Salvando a planilha\n",
    "planilha.save('database.xlsx')"
   ]
  },
  {
   "cell_type": "code",
   "execution_count": 89,
   "metadata": {},
   "outputs": [],
   "source": [
    "# Função para coletar o link da proxima pagina\n",
    "def next_page(driver):\n",
    "    # Verifica se existe o elemento que indica o fim das páginas\n",
    "    if not driver.find_elements(By.XPATH,\"//li[@class='next disabled']\"):\n",
    "        # Retorna o conteudo do elemento que indica o link da próxima página\n",
    "        return driver.find_element(By.XPATH,\"//link[@rel='next']\").get_attribute('href')\n",
    "    else:\n",
    "        return None\n"
   ]
  },
  {
   "cell_type": "code",
   "execution_count": 90,
   "metadata": {},
   "outputs": [],
   "source": [
    "# inicializando o webdriver (navegador que será usado) - Chrome\n",
    "driver = webdriver.Chrome()\n",
    "\n",
    "# Abrindo a planilha\n",
    "wb = openpyxl.load_workbook('database.xlsx')\n",
    "\n",
    "# Selecionando a página da planilha\n",
    "sheet_produtos = wb['monitores']\n",
    "\n",
    "while True:\n",
    "    \n",
    "    # --------------------------------------- Abrindo a Página Atual ---------------------------------------\n",
    "    \n",
    "    driver.get(url) # Abre a página no navegador\n",
    "\n",
    "    # ---------------------------------------- Coletando os Dados --------------------------------------------\n",
    "\n",
    "    # Coletando os dados utilizando o xpath\n",
    "    titles = driver.find_elements(By.XPATH,\"//span[@class='sc-d79c9c3f-0 nlmfp sc-93fa31de-16 bBOYrL nameCard']\")\n",
    "    promotional_prices = driver.find_elements(By.XPATH,\"//span[@class='sc-6889e656-2 bYcXfg priceCard']\")\n",
    "\n",
    "    # Inserindo os dados na planilha (somente tuplas de nome, preço com valors diferentes de null para manter consistência)\n",
    "    for title, price in zip(titles, promotional_prices):\n",
    "        sheet_produtos.append([title.text, price.text])\n",
    "    \n",
    "    # ------------------------------------------ Próxima Página -----------------------------------------------\n",
    "\n",
    "    # Recebe o link da proxima pagina\n",
    "    url = next_page(driver)\n",
    "\n",
    "    if url == None:\n",
    "        break\n",
    "\n",
    "# Salvando a planilha\n",
    "wb.save('database.xlsx')\n",
    "\n",
    "# Fechando o navegador (webdriver)\n",
    "driver.quit()"
   ]
  },
  {
   "cell_type": "code",
   "execution_count": 93,
   "metadata": {},
   "outputs": [],
   "source": [
    "# Abrindo a planilha\n",
    "wb = openpyxl.load_workbook('database.xlsx')\n",
    "\n",
    "# Acessando a página 'produtos'\n",
    "sheet_produtos = wb['monitores']\n",
    "\n",
    "# ----------------------------------------------- FORMATANDO OS DADOS (PREÇO) ----------------------------------------------- #\n",
    "# Excluindo excesso de informação nos preços\n",
    "for cell in sheet_produtos['B']:\n",
    "    cell.value = cell.value.replace('R$ ', '')  # Excluindo o 'R$ ' pois atrapalha a conversão para float\n",
    "    cell.value = cell.value.replace('.', '')    # Excluindo o '.' pois também atrapalha a conversão para float\n",
    "    cell.value = cell.value.replace(',', '.')   # Trocando a vírgula por ponto para evitar problemas com string e float\n",
    "\n",
    "# Convertendo os preços para float (com exceção do cabeçalho)\n",
    "for cell in sheet_produtos['B'][1:]:\n",
    "  cell.value = float(cell.value)\n",
    "\n",
    "# Salvando a planilha\n",
    "wb.save('database.xlsx')"
   ]
  },
  {
   "cell_type": "code",
   "execution_count": 5,
   "metadata": {},
   "outputs": [
    {
     "data": {
      "application/vnd.plotly.v1+json": {
       "config": {
        "plotlyServerURL": "https://plot.ly"
       },
       "data": [
        {
         "customdata": [
          [
           "Monitor Gamer Vxpro 19 Led Wsxga 60hz 5ms Hdmi Vga"
          ],
          [
           "Monitor Gamer HQ 19.5 polegadas, Full HD, HDMI, VGA - 20G75FHD-B"
          ],
          [
           "Monitor Gamer Fox Racer 19.5p HD, 60Hz, Widescreen, HDMI/VGA, Bivolt, Preto"
          ],
          [
           "Monitor Gamer HQ, 22 Polegadas, Full HD LED, 75hz, 1ms, HDMI, Moba, Preto E Vermelho - 22ghq75"
          ],
          [
           "Monitor Gamer Fox Racer 21.5p LED, 75Hz, Widescreen, HDMI/VGA, Bivolt, Preto"
          ],
          [
           "Monitor Gamer Lg 22mp410-b, 21.5 Polegadas, FULL HD, 75hz, HDMI Freesync"
          ],
          [
           "Monitor Gamer LG, 21,5 Full HD, 75hz,5ms, HDMI Va Freesync - 22mp410-b"
          ],
          [
           "Monitor Gamer HQ, 20 Polegadas, Full HD LED, 75hz, 2ms, HDMI, Moba, Preto E Vermelho - 20ghq75"
          ],
          [
           "Monitor Gamer LG 21.5 LED Full HD, 75Hz, 5ms, HDMI, FreeSync - 22MP410-B"
          ],
          [
           "Monitor Gamer Knup 15.6 Polegadas LED , 50HZ, Full HHD, HDMI, VGA Alta Luminosidade"
          ],
          [
           "Monitor Gamer BRX Slim, 20 HD, 75 Hz, 3ms, HDMI, VGA, LED"
          ],
          [
           "Monitor Gamer Duex 21,45 Polegadas FULL HD, 60hz, Led, 5 Ms, Va, VGA/HDMI - DX2145CW"
          ],
          [
           "Monitor Gamer Samsung 22Pol, Full HD, 75Hz, IPS, Vesa, HDMI, Freesync - Lf22t350fhlmzd"
          ],
          [
           "Monitor Gamer Knup 21.5 Polegadas LED, 50HZ/60HZ, HDMI, VGA, Alta Luminosidade - 1920P"
          ],
          [
           "Monitor Gamer Samsung 24 Full HD, 75Hz, IPS, HDMI E VGA, FreeSync, Preto - LF24T350FHLMZD"
          ],
          [
           "Monitor Gamer Concórdia, 23.6 Pol. LED Full HD, 75Hz, HDMI/VGA, Curvo - Cz236f"
          ],
          [
           "Monitor Gamer Concordia, 23.8 Pol. LED Full HD, 165Hz, Freesync, HDMI E Display Port - R200s"
          ],
          [
           "Monitor Gamer Led 23.8\", 75Hz, 1ms LG, Full HD, Painel, Ips, HDMI, VGA Vesa, Preto, Bivolt - 24ML600M-B.AWZM"
          ],
          [
           "Monitor Acer V206HQL 19.5\", HD, 60hz, Widescreen, 1366x768, VGA, HDMI, Bivolt, 5ms"
          ],
          [
           "Monitor Gamer PCFort H238f165, 23.8 Polegadas, Led, Full Hd 165hz Freesync HDMI, Display Port, Vesa"
          ],
          [
           "Monitor Gamer LG 23.8 Full HD, IPS, HDMI, VESA, FreeSync, Sem Bordas, Preto - 24MP400-B"
          ],
          [
           "Monitor Gamer Concórdia, 27 Pol. LED Full HD, 75Hz, HDMI/VGA, Curvo - CZ270F"
          ],
          [
           "Monitor Gamer Primetek 23.8 LED Full HD, 180Hz, HDMI, DisplayPort - 24h2g"
          ],
          [
           "Monitor Gamer HQ Premium 24 Pol. Full HD, 1Ms, 165Hz, VA, AMD Freesync, HDMI, DP - Gp24v116"
          ],
          [
           "Monitor Gamer Grasep 21.5 Polegadas LED, 75HZ, Full HD, Som Integrado"
          ],
          [
           "Monitor Gamer Delta 23.8 Polegadas Led, 60/75HZ, HDMI, Full HD, VGA - Bivolt"
          ],
          [
           "Monitor Gamer Samsung 27Pol, Full HD, 75Hz, IPS, HDMI, Vesa, Freesync - Lf27t350fhlmzd"
          ],
          [
           "Monitor Gamer LG 26 IPS, Ultra Wide, 75Hz, Full HD, 1ms, FreeSync Premium, HDR 10, 99% sRGB, HDMI, VESA - 26WQ500"
          ],
          [
           "Monitor Gamer Mitsushiba, 24 Polegadas, LED, 1920 x 1080, 60hz, Multimídia FHD, HDMI, VGA"
          ],
          [
           "Monitor Gamer Acer KG273 Nitro 27 Full HD, 100Hz, 1ms, HDMI e VGA, FreeSync, VESA - UM.HX3AA.H03"
          ],
          [
           "Monitor Gamer LG 23.8' IPS, 75 Hz, Full HD, 1ms, FreeSync, HDMI, VESA - 24ML600M"
          ],
          [
           "Monitor Gamer AOC 24 Polegadas, Full HD, 75hz, 1ms, IPS, HDMI, VGA, Freesync, Preto E Vermelho - 24g2he5"
          ],
          [
           "Monitor Gamer Bluecase 23.6 Pol. LED Full HD Curvo Optigamer, HDMI / VGA - Bm24ffh1gc"
          ],
          [
           "Monitor Gamer Duex 24 Pol. Full HD, 144Hz, IPS, DisplayPort, HDMI e USB, Freesync - Dx 240zg"
          ],
          [
           "Monitor Gamer Primetek 27 LED Full HD, 180Hz, HDMI, DisplayPort - 27h2g"
          ],
          [
           "Monitor Gamer PCFort T2701-165 27\" Led Full HD 165Hz Display Port- HDMI - DVI - VESA"
          ],
          [
           "Monitor Gamer Concórdia 27p, Curvo, LED Full HD, 100Hz, HDMI, VGA - Cz270f"
          ],
          [
           "Monitor Gamer Concórdia, 27 Pol. LED Full HD, 165Hz, 1Ms, Freesync - H270f"
          ],
          [
           "Monitor Gamer Cooler Master, 23,8 Polegadas, HDMI, VGA, Vesa 100hz - Cmi-ga241"
          ],
          [
           "Monitor Gamer Duex 24 Full HD, 144Hz, 1ms, IPS, HDMI e DisplayPort, 99% sRGB, VESA - DX240ZG"
          ],
          [
           "Monitor Gamer Concórdia, 27 Pol. LED Full HD, 165Hz, Curvo, Freesync - Cz270f"
          ],
          [
           "Monitor Gamer LG 27 Full HD, IPS, HDMI e VESA, FreeSync, Ajuste de Ângulo, Bordas Finas - 27MP400-B"
          ],
          [
           "Monitor Gamer Acer KG243Y Nitro 23.8 Full HD, 100Hz, 1ms, HDMI e VGA, FreeSync, VESA - UM.QX3AA.H03"
          ],
          [
           "Monitor Gamer Acer QG240Y Nitro 23.8 Full HD, 180Hz, 1ms, HDMI e DisplayPort, 95% sRGB, HDR 10, FreeSync - UM.QQ0AA.304"
          ],
          [
           "Monitor Gamer Bluecase 24 Polegadas Full HD, 144HZ, 1ms, HDMI e DisplayPort, FreeSync - BM242GW"
          ],
          [
           "Monitor Gamer AOC Speed 23.8' IPS, Wide, 75 Hz, Full HD, 1ms, Adaptive Sync, VESA, HDMI/VGA - 24G2HE5"
          ],
          [
           "Monitor Gamer Samsung Odissey G30 24 Pol. Full HD LCD, 144Hz, Ajuste De Altura, Freesync Premium, Preto - Ls24bg300elmzd"
          ],
          [
           "Monitor Gamer Husky Storm 27' LED, Curvo, 165 Hz, Full HD, 1ms, Adaptive Sync, HDMI/DisplayPort, Ajuste de Ângulo - HGMT001"
          ],
          [
           "Monitor Gamer Husky 23.8' LED, Wide, 165 Hz, Full HD, 1ms, Adaptive Sync, HDMI/DisplayPort, VESA - HGMT003"
          ],
          [
           "Monitor Acer 23.8 LED Full HD, 75Hz, 1ms, HDMI e VGA, Ajuste de Ângulo, FreeSync, VESA - CB242Y"
          ],
          [
           "Monitor Gamer Acer Nitro Zeroframe, 23.8 Polegadas, Full HD, 180hz - QG240Y S3bip"
          ],
          [
           "Monitor Redragon, Ruby, Led, 144hz, Full HD - GM3CC238"
          ],
          [
           "Monitor Gamer Multi Shin Kai 24 Polegadas 23.8 Polegadas Full HD (1920x1080), 1ms, Curvo, 165hz - Mn103"
          ],
          [
           "Monitor Gamer Bluecase 23.6 Pol. Curvo, LED Full HD, 180Hz, HDMI / VGA, Preto - Bm24ffd1gc"
          ],
          [
           "Monitor Aoc Gamer, Viper,24g2se 165hz 1ms Hdmi Dpor - 24g2se."
          ],
          [
           "Monitor Gamer LG Ultragear, 23.8 Polegadas Full HD HDR, 144hz, 1ms, IPS, Freesync, HDMI, DP, Preto - 24GN60R-B"
          ],
          [
           "Monitor Gamer Redragon Quartz 24 Polegadas, Full HD, 165hz, 1ms, HDMI e Displayport, Freesync - GM24H2G"
          ],
          [
           "Monitor Gamer LG LED 23.8 Polegadas FHD, 60Hz, 5Ms, IPS, VGA/HDMI/DP, Pivot - 24BL550J"
          ],
          [
           "Monitor Gamer LED, MOOB,24 Polegadas, 2ms 60Hz, Full HD, Widescreen"
          ],
          [
           "USADO: Monitor Gamer Acer Nitro 23.8 Full HD, 1ms, 2 HDMI, 1 DisplayPort, Recertificado Ouro - QG241Y"
          ],
          [
           "Monitor Gamer Samsung Odyssey G3 24 LED Full HD, 144Hz, 1ms, HDMI e DisplayPort, FreeSync Premium, Ajuste de Altura, VESA - LS24BG300ELMZD"
          ],
          [
           "Monitor Gamer Acer 23.8' LED, 75 Hz, Full HD, 1ms, FreeSync, HDMI/VGA, VESA - KA242Y A"
          ],
          [
           "Monitor Concórdia Gamer Curvo Cz270f200 27'' LED FULL HD, 200hz, 1ms, HDMI, DP, DVI"
          ],
          [
           "Monitor Gamer AOC Hero 23.8 Full HD, Wide, 144 Hz, 1ms, FreeSync, HDMI e DisplayPort, IPS, Ajuste de Altura - 24G2/BK"
          ],
          [
           "Monitor Gamer AOC 23.8 Full HD, 144 Hz, 1ms, IPS, HDMI/displayport, Ajuste De Altura, Widescreen, Freesync - 24g2/bk"
          ],
          [
           "Monitor Gamer Redragon, 23Pol, Full HD, 144Hz, 1MS, IPS, HDMI, DP, VGA, Freesync - M2444ph"
          ],
          [
           "Monitor Gamer Redragon Aquamarine 27 Polegadas, Full HD, 165hz, 1ms, HDMI e DisplayPort, FreeSync - GM27H2G"
          ],
          [
           "Monitor Gamer Goldentec, 24 Polegadas, LED, Full HD, 75hz 1ms"
          ],
          [
           "Monitor Gamer Duex 27 Polegadas, FULL HD, 1MS, 240Hz, Curvo, VA, Freesync, HDMI/Display Port, USB - Dx270zg"
          ],
          [
           "Monitor Gamer Acer 23.8 Polegadas Full HD, 165Hz, 1ms, HDR, FreeSync, HDMI e DisplayPort - QG241Y"
          ],
          [
           "Monitor Gamer Acer Nitro 23.8 LED Full HD, 165Hz, 1ms, HDMI e DisplayPort, HDR, FreeSync Premium, VESA - QG241Y Pbiip"
          ],
          [
           "Monitor Gamer Concordia PCFort 27 LED Full HD, 165Hz, 1ms, HDMI e DisplayPort, DVI, FreeSync, Ajuste de Ângulo - T2701"
          ],
          [
           "Monitor Gamer Bluecase, 27\", 2.5k, 75hz, 5ms, Preto - BM2716GW"
          ],
          [
           "Monitor Gamer AOC Sniper 27' IPS, Wide, 75 Hz, Full HD, 1ms, Adaptive Sync, 98% sRGB, HDMI/VGA, Ajuste de Ângulo - 27G2HE5"
          ],
          [
           "Monitor Gamer Acer QG270 Nitro 27 Full HD, 180Hz, 1ms, HDMI e DisplayPort, 95% sRGB, HDR 10, FreeSync - UM.HQ0AA.304"
          ],
          [
           "Monitor Acer Zeroframe, Tela De 23.8'', Fhd 75hz Vrb De 1ms Freesync - Ka242y"
          ],
          [
           "Monitor Gamer Grasep 27 Polegadas Led, FHD, HDMI, Som Integrado - 1920P"
          ],
          [
           "Monitor Gamer Husky Blizzard 27' LED Full HD, 240Hz, 1ms, HDMI e DisplayPort, 96% sRGB, Adaptive Sync, Ajuste de Altura - HGMT006"
          ],
          [
           "Monitor Gamer Curvo HQ 24 LED, RGB, Full HD, 75 Hz, 1ms, HDMI/VGA, Borda Ultra Fina, Pink - 24GHQ-PINK"
          ],
          [
           "Monitor Gamer HQ Premium 25 Pol. Full HD, 1MS, 240Hz, IPS, AMD Freesync, HDMI, DP - Gp25i124"
          ],
          [
           "Monitor Gamer LG UltraGear 24 Full HD, 144Hz, 1ms, IPS, HDMI e DisplayPort, 99% sRGB, HDR, FreeSync Premium, VESA - 24GN60R-B.AWZM"
          ],
          [
           "Monitor Gamer Samsung Odyssey G3 27 LED Full HD, 165 Hz, 1ms, HDMI/DisplayPort, FreeSync Premium, Ajuste de Altura, Preto - LS27AG320NLXZD"
          ],
          [
           "Monitor Gamer Acer KG251Q Nitro 24.5\" Full HD, 250Hz, 1ms, Displayport e HDMI, HDR10, FreeSync, Preto - UM.KX1AA.Z02"
          ],
          [
           "Monitor Gamer Duex 27 Full HD Curvo, 240Hz, 1ms, IPS, HDMI e DisplayPort, 99% sRGB, VESA - 270ZG"
          ],
          [
           "Monitor Gamer Acer 27 LED Full HD Curvo, 165 Hz, 5ms, HDMI e DisplayPort, FreeSync Premium, VESA - ED270R"
          ],
          [
           "USADO: Monitor Gamer LG, Tela 29 Polegadas, 75Hz, 1ms, Dynamic Action Sync, AMD FreeSync - 29UM69G-B.AWZM - Bronze Recer"
          ],
          [
           "Monitor Concórdia Gamer K270q 27'' 2k, WQ HD, 165HZ, 1MS, HDMI, DP"
          ],
          [
           "Monitor Gamer AOC Viper 27 Full HD, 165Hz, 1ms, IPS, HDMI e DisplayPort, FreeSync - 27G2SE"
          ],
          [
           "Monitor Gamer AOC Hero 27 Full HD, Wide, 144 Hz, 1ms, IPS, HDMI e VGA, G-Sync, Ajuste de Ângulo - 27G2/BK"
          ],
          [
           "Monitor Gamer Husky Hailstorm 31.5' LED, Curvo, 165 Hz, Full HD, 1ms, Adaptive Sync, HDMI/DisplayPort, Ajuste de Ângulo - HGMT002"
          ],
          [
           "Monitor Gamer Samsung 24Pol, Full HD, 144 Hz, 1MS, HDMI, Display Port, VGA, Freesync Premium, Regulagem De Altura - Lf24g35tfwlxzd"
          ],
          [
           "Monitor Gamer Samsung 27Pol, Full HD, 75Hz, IPS, HDMI, Vesa, Freesync - Lf27t350fhlmzd"
          ],
          [
           "Combo Office Monitor Gamer Warrior Shin Kai 24Pol 1800R 165hz 1ms Curvo, + Webcam Full HD 1080P Microfone USB com Cancelamento de Ruído Preto - Mn1032k"
          ],
          [
           "Monitor Gamer Duex 24´ Full HD (1920x1080), 144Hz, Preto - Dx 240zg"
          ],
          [
           "Monitor Gamer Lg 24'', Hdmi/displayport, Led Full Hd, 144hz, 1ms Mbr, Freesync, Ajuste De Inclinação"
          ],
          [
           "Monitor Gamer Philco 27 LED, Curvo R1800, 165 Hz, Full HD, 1ms, FreeSync, HDR 10, HDMI/DisplayPort - PMG27C900FG"
          ],
          [
           "Monitor Gamer AOC 27 Polegadas LED Full HD, 144hz, 1ms, IPS, HDMI, VGA, Display Port, VESA, G-sync - 27g2/bk"
          ],
          [
           "Monitor Gamer LG UltraGear 27 Full HD, 144Hz, 1ms, IPS, HDMI e DisplayPort, HDR 10, 99% sRGB, FreeSync Premium, VESA - 27GN65R"
          ],
          [
           "Monitor Gamer Husky Snow 23.6 LED Full HD, Curvo, 165Hz, 1ms, HDMI e DisplayPort, Adaptive Sync, Ajuste de Ângulo - HGMT000"
          ],
          [
           "Monitor Gamer Husky Avalanche 27' IPS, Wide, 144 Hz, Full HD, 1ms, Adaptive Sync, HDMI/DisplayPort, Ajuste de Altura, Som Integrado - HGMT004"
          ],
          [
           "Monitor Gamer Curvo Concórdia 27\" LED Full HD R1500, 200Hz, 1ms, HDMI/DisplayPort, FreeSync, Som Integrado, Preto - CZ270F"
          ],
          [
           "Monitor Gamer Primetek A3l1m, 30 Polegadas, FULL HD LED, 200HZ, HDMI, Displayport"
          ],
          [
           "Monitor Gamer Goldentec, 24 Polegadas, LED, Full HD, 144hz, 1ms"
          ],
          [
           "Monitor Asus TUF Gaming 27 Full HD, 165Hz, 1ms, IPS, HDMI e DisplayPort, FreeSync Premium, VESA - VG279Q1A"
          ],
          [
           "Monitor Gamer LG UltraGear 24 Full HD, 144Hz, 1ms, IPS, HDMI e DisplayPort, 99% sRGB, HDR, FreeSync Premium, VESA - 24GN60R-B.AWZM"
          ],
          [
           "Monitor Gamer LG 29' IPS, Ultra Wide, 75 Hz, Full HD, FreeSync, 99% sRGB, HDMI/DisplayPort, VESA - 29UM69G-B"
          ],
          [
           "Monitor Gamer Curvo HQ 24 LED, RGB, Full HD, 165 Hz, 1ms, HDMI/DisplayPort, FreeSync, sRGB, Som Integrado, Pink - 24GHQ-PINKsRGB"
          ],
          [
           "Monitor Gamer LED Asus TUF Gaming 27´, Full HD, IPS, HDMI/DisplayPort, FreeSync, 144Hz, 1ms - VG279Q1R"
          ],
          [
           "Monitor Gamer Cooler Master 23.8 Pol. Full HD (1920x1080), 0.5MS, 144Hz, IPS, HDMI, Hdr10, Vesa - Gm238-Ffs"
          ],
          [
           "Monitor Gamer Cooler Master 23.8 Full HD, 144 Hz, 0.5ms, HDMI e DisplayPort, DCI-P3 de 90%, HDR - CMI-GM238-FFS-BR"
          ],
          [
           "Monitor Gamer Acer Nitro Qg270, 27 Polegadas, Full Hd, 180hz, 1ms Freesync"
          ],
          [
           "Monitor Gamer Lg Ultragear 27 Polegadas,FULL HdD144hz 1ms Ips, HDMI e Displayport"
          ],
          [
           "Monitor Gamer Samsung 27 polegadas FHD, 165hz, 1ms, Com Ajuste De Altura, HDMI, Displayport, Freesync, Preto - Ls27ag320nlxzd"
          ],
          [
           "Monitor Gamer Asus TUF 23.8' IPS, Wide, 144 Hz, Full HD, 1ms, FreeSync, HDMI/DisplayPort, Ajuste de Altura, Vesa, Som Integrado - VG249Q"
          ],
          [
           "Monitor Gamer Samsung Odyssey G30 24” Full HD"
          ],
          [
           "Monitor Gamer Multi Warrior Kaizen 27 Polegadas, Full HD IPS, 144Hz, 1ms, HDMI e DisplayPort, FreeSync - MN201"
          ],
          [
           "Monitor Gamer Husky 23.6 Polegadas Full HD, 165Hz, 1ms, HDMI e Displayport, Snow Curvo, Adaptive Sync - Mo-hsn-24c"
          ],
          [
           "Monitor Gamer AOC 24.5 LED Full HD, Wide, 240Hz, 0.5ms, HDMI e DisplayPort, 119,9% sRGB, HDR 10, FreeSync Premium, VESA - 25G3ZM"
          ],
          [
           "Monitor Gamer Asus TUF 23.8 LED Full HD, 1ms, 165 Hz, FreeSync Premium, HDMI/DisplayPort, Som Integrado, Extreme Low Motion Blue - VG247Q1A"
          ],
          [
           "Monitor Gamer Bluecase, 21.5\" Full HD, 75Hz, Rako - BM221GW"
          ],
          [
           "Monitor Gamer AOC 24.5 LED Full HD, Wide, 240Hz, 0.5ms, HDR 10, FreeSync Premium - 25G3ZM + Norton 360 for Gamers 2023 3 Dispositivos, 12 meses"
          ],
          [
           "Monitor Gamer Redragon 27Pol, Full HD, 165Hz, 1MS, IPS, HDMI, DVI, DP, Telefone, SPK, Freesync - Gm270f165"
          ],
          [
           "Monitor Gamer Asus TUF 23.6 Curvo Full HD, 165Hz, 1ms, HDMI e DisplayPort, Adaptive Sync, VESA - VG24VQE"
          ],
          [
           "USADO: Monitor Gamer 24 Polegadas Acer Nitro, 165Hz, 0.5ms, Freesync, HDMI, DisplayPort, Preto, Recertificado Prata - VG252Q"
          ],
          [
           "Monitor Gamer Curvo Duex Dx 270zg, 27 Polegadas, FULL HD (1920x1080), 240hz, Preto"
          ],
          [
           "Monitor Gamer Philco 32 LED Full HD, Curvo R1800, 165Hz, 1ms, HDMI e DisplayPort, HDR 10, FreeSync - PMG32C900FG"
          ],
          [
           "Monitor Gamer LG UltraGear 32 LED, 165 Hz, QHD, 1ms, HDMI/DisplayPort, 95% sRGB, FreeSync Premium, HDR 10, VESA, Preto - 32GN600-B"
          ],
          [
           "Monitor Gamer Asus TUF 24.5 Full HD, 165Hz, 1ms, IPS, HDMI e DisplayPort, Adaptive Sync, Ajuste de Altura, Som Integrado, VESA - VG259QR"
          ],
          [
           "Monitor Gamer Asus TUF 27 LED Full HD, 1ms, 165 Hz, FreeSync Premium, 120% sRGB, HDMI, Som Integrado, ELMB - VG27VH1B"
          ],
          [
           "Monitor Gamer ViewSonic Omni 27 LED Full HD, Curvo, 165 Hz, 1ms, HDMI e DisplayPort, 102% sRGB, FreeSync Premium, Som Integrado - VX2718"
          ],
          [
           "Monitor Gamer AOC 27 2K QHD, 155hz, 1ms, HDMI e DisplayPort, FreeSync Premium, 121.5% sRGB, VESA - Q27G2"
          ],
          [
           "Monitor Gamer LG 34 Ultrawide Full HD, 75Hz, 5Ms, HDMI, IPS, HDR10, Freesync - 34wp550-b"
          ],
          [
           "Monitor Gamer Cooler Master 27 Full HD, 165 Hz, 0.5ms, HDMI e DisplayPort, DCI-P3 90%, HDR - CMI-GM27-FFS-BR"
          ],
          [
           "Monitor Gamer LG 27 polegadas Full HD, 240Hz, 1ms, IPS, DisplayPort, HDMI, USB, HDR10, Freesync, sRGB - 27GN750-B.AWZ"
          ],
          [
           "Monitor Gamer AOC Legend 27' LED, Curvo, 240 Hz, Full HD, 0.5ms, FreeSync Premium, 120% sRGB, HDMI/DisplayPort - C27G2ZE"
          ],
          [
           "Monitor Gamer Gigabyte 27 Full HD, 165Hz, 1ms, IPS, HDMI e DisplayPort, 130% sRGB, HDR, FreeSync, Altura Ajustável - G27F2BR"
          ],
          [
           "Monitor Gamer Gigabyte LED 27´ Full HD, IPS, HDMI/DisplayPort, FreeSync, 144Hz, 1ms, Altura Ajustável - G27F-SA"
          ],
          [
           "Monitor Goldentec, 24\" Led Gt Gamer Fhd, Hdmi, 75hz"
          ],
          [
           "Monitor Gamer Gigabyte 24 Polegadas, FULL HD, 165hz, 1ms, IPS, HDMI E Displayport, 125% SRGB, HDR, Freesync, Altura Ajustável - G24f2br"
          ],
          [
           "Monitor Cooler Master Ga271, 27 Polegadas, Wqhd, Va, Hdr10, 100hz, 1ms, Srgb"
          ],
          [
           "Monitor Gamer LG UltraGear 27' IPS, Wide, 240 Hz, Full HD, 1ms, FreeSync Premium, HDR 10, 99% sRGB, HDMI/DisplayPort, VESA - 27GN750-B.AWZ"
          ],
          [
           "Monitor Gamer Curvo Concórdia 31.5\" QHD R1500, 165Hz, 1ms, HDMI/DisplayPort, FreeSync, Ajuste de Altura, Som Integrado, Preto - C315Q"
          ],
          [
           "Monitor Gamer AOC Entusiasta Monitor 27 Polegadas, FULL HD, Wide, Ips, 1ms, 75hz, Adaptive G-sync"
          ],
          [
           "Monitor Gamer Asus, Tuf Gaming, Led, 23.8\", Wides, Freesync, 144hz"
          ],
          [
           "Monitor 27\" LED/IPS Acer Gamer Ultra Fino, 75Hz, 1Ms, HDMI + VGA - SA270"
          ],
          [
           "Monitor Gamer Bluecase 27\" 2.5K, 75Hz, HDMI / Displayport, Vesa - BM2713GW"
          ],
          [
           "Monitor Gamer Curvo Philco 30 LED, Full HD Ultra Wide, 144Hz, 1ms, HDMI e DisplayPort, HDR 10, FreeSync, Ajuste de Ângulo - PMG30C900WFG"
          ],
          [
           "Monitor Gamer BenQ 24 Polegadas, Full HD, 144Hz, 1Ms, DisplayPort e HDMI, Altura Ajustável - XL2411K"
          ],
          [
           "Monitor Acer Gamer Nitro 27\" Zeroframe, IPS, FHD, 165hz 0.5MS, 2x HDMI, AMD Freesync, Vg272 S"
          ],
          [
           "Monitor Samsung Odyssey, 27pol., Full HD, 165Hz, 1MS, HDMI, Display Port, FreeSync"
          ],
          [
           "Monitor Asus Rog Strix 24.5, 180Hz, 1ms, IPS, HDMI e DisplayPort, 99% sRGB, HDR, FreeSync Premium, Ajuste de Altura, VESA - XG256Q"
          ],
          [
           "Monitor Gamer Gigabyte 27Polegadas, 1ms Gtg 165 Hz Freesync - M27FA"
          ],
          [
           "Monitor Gamer LG 27 QHD HDR, 75hz, 5ms, HDMI, DP, IPS, Freesync, Pivot, Preto - 27qn880-b"
          ],
          [
           "Monitor Gamer Husky Tempest 34' VA, Ultrawide, 144 Hz, 2K QHD, 1ms, Adaptive Sync, 95% sRGB, HDMI/DisplayPort Som - HGMT005"
          ],
          [
           "Monitor Gamer HyperX Armada 25 Full HD, 240 Hz, 1ms, IPS, HDMI e DisplayPort, 99% DCI, HDR, G-Sync, Preto - 64V61AA#AC4"
          ],
          [
           "Monitor Gamer Asus TUF 31.5 Curvo LED Full HD, 165 Hz, 1ms, HDMI, 120% sRGB, VESA, FreeSync Premium, Som Integrado - VG328H1B"
          ],
          [
           "Monitor Gamer Samsung Odyssey G32A, 27 Pol. FHD, 165Hz, 1Ms, HDMI + DP, Ajuste De Altura, Freesync, Preto - Ls27ag32anlxzd"
          ],
          [
           "Monitor Asus ROG Strix 27 LED, 170Hz, 1ms, IPS, HDMI e DisplayPort, 115% sRGB, HDR, Altura Ajustável, VESA - XG276Q"
          ],
          [
           "Monitor Gamer Hq 27hq-led Pro R3000, 27 Polegadas, Curvo 240hz, 0.5ms, LED ,FULL HD, HDMI/display Port, USB"
          ],
          [
           "Monitor Gamer Samsung Odyssey G32a, 24 Pol, Full HD, 165Hz, 1MS, HDMI, DislayPort, Freesync, Com Ajuste De Altura - Ls24ag320nlxzd"
          ],
          [
           "Monitor Gamer Asus TUF 31.5 LED 2K QHD, 165Hz, 1ms, HDMI e DisplayPort, HDR, 120% sRGB, FreeSync Premium, Som Integrado, VESA - VG32VQ1B"
          ],
          [
           "Monitor Gamer Zowie XL2411K 24, 144Hz, 1ms, HDMI, Tecnologia DyAc Ajuste de Altura - 9H.LJPLB.QBL"
          ],
          [
           "Monitor 27\" LED, Gt Gamer, FHD, HDMI, 75hz - Goldentec"
          ],
          [
           "Monitor Gamer LG UltraGear LG 34\" Curvo LED WQHD, UltraWide, 160Hz, 1ms, DisplayPort e HDMI, AMD FreeSync Premium, HDR10, 99% sRGB - 34GP63A-B"
          ],
          [
           "Monitor Gamer HyperX Armada 27 2K QHD, 165 Hz, 1ms, IPS, HDMI e DisplayPort, 95% DCI, HDR, FreeSync, Preto - 64V69AA#AC4"
          ],
          [
           "Monitor Gamer ViewSonic Omni 31.5 LED Full HD, Curvo, 165 Hz, 1ms, HDMI e DisplayPort, 103% sRGB, FreeSync Premium, Som Integrado - VX3218"
          ],
          [
           "Monitor Gamer Asus TUF 31.5 LED 2K QHD, Curvo, 144Hz, 1ms, HDMI e DisplayPort, FreeSync, HDR, 92% sRGB, Ajuste de Altura, Som, VESA - VG32VQ"
          ],
          [
           "Monitor Gamer Cooler Master 27 Pol. Curvo, Full HD, 0.5MS, 240Hz, HDMI, Vesa - Gm27-Cfx"
          ],
          [
           "Monitor Gamer Cooler Master 27 LED Full HD, 240 Hz, 0.5ms, HDMI e DisplayPort, 98% DCI-P3, HDR, Adaptive Sync - CMI-GM27-CFX-BR"
          ],
          [
           "Monitor Gamer AOC 27 Polegadas, Full HD, 240hz, 0.5ms, HDMI, DisplayPort, Freesync - C27G2ZE"
          ],
          [
           "Monitor Gamer 27\" Bluecase, 144Hz, Full HD, HDMI/DP - BM277GW"
          ],
          [
           "Monitor Gamer BenQ, 23.8 Polegadas, FULL HD, 61-80HZ, HDMI/VGA, LED, Black - Gw2480"
          ],
          [
           "Monitor Gamer LG ultra gear 34 LED Ultra Wide Curvo, 160 Hz, QHD, 1ms, HDMI/DisplayPort, 99% sRGB, FreeSync Premium, HDR 10, VESA, Preto - 34WP65C-B"
          ],
          [
           "Monitor Gamer Lenovo Y25-30, 24.5\", FullHD, 240Hz, 0.5ms, HDMI, DP, FreeSync"
          ],
          [
           "Monitor Gamer BenQ 24.5 Mobiuz EX2510S, 1ms, IPS, 165Hz, sRGB, HDR10, FreeSync Premium, Eye Care, Alto-Falante Duplo, Preto - 9H.LKELA.TBL"
          ],
          [
           "Monitor Gamer ViewSonic Omni 27 LED 2K QHD, Curvo, 165 Hz, 1ms, HDMI, DisplayPort, 102% sRGB, FreeSync Premium, Som Integrado - VX2718- 2KPC"
          ],
          [
           "Monitor Gamer Acer VG240Y FHD 165hz FreeSync ZeroFrame 0,5ms."
          ],
          [
           "Monitor Gamer Gigabyte 23.8 Full Hd Ips 170hz 1ms G24fsa"
          ],
          [
           "Monitor Acer Zeroframe, Tela Touch, 23.8\", Full HD, 75 Hz, Preto - Ut241y"
          ],
          [
           "Monitor Gamer 28 4K Acer Nitro, 60Hz, 4ms, IPS, HDMI, DisplayPort, FreeSync - KG282K"
          ],
          [
           "Monitor Gamer Samsung Odyssey G40 25” Preto Ls25bg400elxzd, FHD, 240 Hz, 1ms, Com Ajuste De Altura, Hdmi, Dp, Gsync, Freesync"
          ],
          [
           "Monitor Gamer Gigabyte LED 31.5, QHD, Curvo, HDMI/DisplayPort, FreeSync, G-Sync, 165Hz, 1ms, HDR400, Altura Ajustável - G32QC-SA"
          ],
          [
           "Monitor Gamer Samsung 27Pol, Full HD, 144Hz, 1MS, HDMI, Displayport, VGA, Freesync, Ajuste De Altura - Lf27g35tfwl"
          ],
          [
           "Monitor 31,5'' LG Uhd 4k Com Hdr10 E Amd Freesynct - 32un500"
          ],
          [
           "Monitor Concórdia Gamer Curvo C315q 31.5'' ,2k, WqHD, 165hz, 1ms, 2 HDMI, DP, Ajuste De Altura E Rotação"
          ],
          [
           "Monitor Gamer Husky 27 Full HD, 240Hz, 1Ms, HDMI E Displaport, Blizzard Curvo, Adaptive Sync - Hgmt006"
          ],
          [
           "Monitor Msi, Optix, Curved 31.5\", Fhd 165hz - G32c4w"
          ],
          [
           "Monitor Asus ROG Strix 29.5, IPS, 220Hz, 1ms, HDMI e DisplayPort, 110% sRGB, HDR, FreeSync Premium, Altura e Ângulo Ajustável, VESA - XG309CM"
          ],
          [
           "Monitor Gamer Dell 23.8 polegadas Full HD, 144Hz, 1ms, Freesync, HDMI/Displayport - S2421hgf"
          ],
          [
           "Monitor Gamer Asus 27 Polegadas, Vg279q1a Tuf Gaming, FULL HD, IPS, Freesync Premium, 165HZ, 1ms, Vesa, HDMI/dp"
          ],
          [
           "Monitor Gamer Samsung Odyssey G40 27 polegadas FHD, 240 Hz, 1ms, IPS, HDMI, Displayport, Com Ajuste De Altura, Gsync, Freesync, Hdr10 - Ls27bg400elxzd"
          ],
          [
           "Monitor Gamer BenQ MOBIUZ EX2710S, 27 Full HD, 165Hz, 1ms, IPS, HDMI e DisplayPort, FreeSync Premium, HDRi, Color Vibrance, Black eQualizer"
          ],
          [
           "Monitor Gamer Curvo Samsung Odyssey 34 Polegadas ultra WQHD, 165Hz, 1ms, HDMI, DP, Freesync, G5"
          ],
          [
           "Monitor Gamer Asus TUF 27' IPS, 280 Hz, Full HD, 1ms, G-Sync, HDR 400, 99% sRGB, HDMI/DisplayPort, Ajuste de Altura, Vesa, Som - VG279QM"
          ],
          [
           "Monitor Gamer Samsung Odyssey G5 34' VA, Curvo, Wide, 165 Hz, 2K QHD, 1ms, FreeSync Premium, HDR10, HDMI/DisplayPort - LC34G55TWWLXZD"
          ],
          [
           "Monitor Gamer Gigabyte 27 Polegadas, Curvo, Qhd, 165hz, 1ms, HDMI E Displayport - G27qc-a-sa"
          ],
          [
           "Monitor Gamer AOC 27 2K QHD, 170Hz, 1ms, IPS, HDMI e DisplayPort, G-Sync, HDR, 129% sRGB, VESA - AG275QXR"
          ],
          [
           "Monitor Gamer Cooler Master 27\", LCD Curvo, Widescreen, Full HD, HDMI, 165Hz, 3ms, FreeSync - GM27-CF"
          ],
          [
           "Monitor Gamer Gigabyte 27 Polegadas, Qh, Ips M27q-sa 165 HZ, HDMI, DP, USB 3.0 Tipo-c"
          ],
          [
           "Monitor Gamer 27'', Gigabyte G27fc-a-sa, Curvo, Full HD, 165hz, 1ms, Freesync - Hdmi/displayport"
          ],
          [
           "Monitor Gamer Gigabyte, 31,5 Polegadas, QHD, Curvo, 165hz, HDMI e DisplayPort - G32qc A"
          ],
          [
           "Monitor Gamer Samsung Odyssey G6 Curvo 27 LED 2K QHD, 240 Hz, 1ms, HDMI e DisplayPort, HDR, FreeSync Premium - LS27BG650ELXZD"
          ],
          [
           "Monitor Gamer Gigabyte 34 LED 2K QHD Curvo, 144Hz, 1ms, HDMI e DisplayPort, FreeSync Premium, 90% sRGB, VESA, DCI-P 90%, HDR 400 - G34WQC A-SA"
          ],
          [
           "Monitor Gamer Husky 34 Polegadas QHD Ultrawide 3440x1440, 144Hz, Tempest Curvo - Adaptive Sync - Hgmt005"
          ],
          [
           "Monitor Acer Gamer Predator 27 Pol. IPS, FHD, 280Hz 1Ms, HDMI + DisplayPort, HDR400 G-Sync - Xb273 Gz"
          ],
          [
           "Monitor Gamer Cooler Master 31.5 2K QHD, 165 Hz, 1ms, HDMI e DisplayPort, 95% DCI-P3, HDR, FreeSync Premium - CMI-GM32-FQ-BR"
          ],
          [
           "Monitor Gamer Benq Mobiuz EX2510S, 24.5 Full HD, 165hz, 1ms, HDMI, USB, DisplayPort, IPS, SRGB, HDR10, Freesync Premium, Eye Care, Som Integrado, Preto - 9H.LKELA.TBL"
          ],
          [
           "Monitor Gamer Gigabyte, 34 Polegadas, 144HZ, 1MS, FULL HD, HDMI/displayport, Curvo 1500r, Flicker Free, Vesa - G34wqc-sa"
          ],
          [
           "Monitor Gamer Gigabyte 34´, 144Hz, 1ms, Full HD, HDMI/DisplayPort, Curvo 1500R, Flicker Free, VESA - G34WQC-SA"
          ],
          [
           "Monitor Gamer Gigabyte 27 Polegadas, Qhd, Ips, M27q P Vesa 1ms, 165HZ, HDMI, DP, USB 3.0"
          ],
          [
           "Monitor 24.5\" Gamer Benq Zowie Xl2546k - Full HD - 240hz - 1ms - Tecnologia Dyac - HDMI/Displayport"
          ],
          [
           "Monitor Gamer Curvo Samsung Odyssey CRG50, 27\" FHD, 240 Hz, HDMI, DP, Gsync - Lc27rg50fqlxzd"
          ],
          [
           "Monitor Gamer Acer Predator 27' IPS, 240 Hz, Full HD, 1ms, G-Sync, HDR 400, 99% sRGB, HDMI/DisplayPort, VESA, Som Integrado - XB273 GX"
          ],
          [
           "Monitor Gamer Cooler Master 34 QLED 2K QHD, 165Hz, 1ms, HDMI e DisplayPort, 95% DCI-P3, HDR, FreeSync - CMI-GM34-CW2-BR"
          ],
          [
           "Monitor Gamer Gigabyte, 31.5 Polegadas, QHD, IPS, M32q-sa, 1ms, 165HZ, HDMI, DP, USB Tipo-c"
          ],
          [
           "Monitor Gamer AOC League of Legends 27 QHD, RGB, 165Hz, 1ms, IPS, HDMI/DisplayPort, G-Sync, 129% sRGB, HDR 400, Preto e Amarelo - AG275QXL"
          ],
          [
           "Monitor Gamer, Benq Mobiuz, Ex2510, 24.5, Inch, 144HZ, IPS, HDRI, 1080P, 1MS, Freesync Premium Speakers."
          ],
          [
           "Monitor LG Ergo DualUp 28 SDQHD, 60Hz, Nano IPS, HDMI e USB-C, HDR 10, Ajuste de Altura, Som Integrado, VESA, PBP - 28MQ780"
          ],
          [
           "Monitor Gamer Cooler Master 27 Mini LED 2K QHD, 165 Hz, 1ms, HDMI e DisplayPort, USB, 98% sRGB, HDR, Adaptive Sync - CMI-GP27-FQS-BR"
          ],
          [
           "Monitor Gamer Cooler Master 34 Pol. Curvo, Uwqhd (3440x1440), 0.5MS, 144Hz, Hdr400, Vesa - Gm34-Cwqa"
          ],
          [
           "Monitor Gamer Benq 27 QHD, 165 Hz, 1ms, IPS, HDMI/DisplayPort, FreeSync, HDR 400, Ajuste de Altura, Vesa, Preto - EX2710Q"
          ],
          [
           "Monitor Gamer Zowie XL2546K, 24.5 240Hz, 1ms, Tecnologia DyAc, headphone jack, Ajuste de Altura - 9H.LJNLB.QBL"
          ],
          [
           "Monitor Gamer 32 Curvo 2.5k QHD, 165Hz, Freesyng Gsync, Gamemax"
          ],
          [
           "Monitor Gamer Asus ROG Swift 24.5' IPS, 360 Hz, Full HD, 1ms, G-Sync, Nvidia Reflex, ROG Desk Mount Kit, HDR 10, HDMI/DisplayPort - PG259QNR"
          ],
          [
           "Monitor Gamer Gigabyte, 28 Polegadas, Full HD, 144hz, HDMI e DisplayPort - M28u"
          ],
          [
           "Monitor Gamer AOC Porsche Design 27 LED QHD, 240Hz, 0.5ms, HDMI/DisplayPort, FreeSync Premium Pro, HDR 400, 119% sRGB, Preto e Prata - PD27"
          ],
          [
           "Monitor Gamer Gigabyte, 27 Polegadas, QHD, Ips M27q X-sa, 1ms, 165HZ, HDMI, DP, USB"
          ],
          [
           "Monitor Gigabyte M32q, 31.5Polegadas, Com Kvm, Qhd, Ss Ips, 170hz, Hdr400, 0.8ms, 120% Srgb - M32q-sa"
          ],
          [
           "Monitor Gamer Asus ROG Swift 49' LED, Ultra Wide, 144 Hz, DFHD, FreeSync Premium, HDR 10, 100% sRGB, HDMI/DisplayPort, Som - XG49VQ"
          ],
          [
           "Monitor Gamer Gigabyte 28 Polegadas, Uhd, M28u Ae Sa Pivot, Vesa, 144HZ, HDMI, DP, USB Tipo-c"
          ],
          [
           "Monitor Acer 27 Polegada, 165 HZ, IPS, Led Gamer Predator, WQHD, HDMI, USB, Display Port G-Sync - Xb271hu"
          ],
          [
           "Monitor Gamer Gigabyte, 32 Polegadas, 144hz, HDMI e DisplayPort, Curvo - M32uc"
          ],
          [
           "Monitor Gamer Cooler Master 27 Mini LED 4K UHD, 160 Hz, 1ms, HDMI e DisplayPort, USB, 98% sRGB, HDR, Adaptive Sync - CMI-GP27-FUS-BR"
          ],
          [
           "Monitor Gamer AOC Agon Pro 24.5 Full HD, 360Hz, IPS, 1ms, HDMI/DisplayPort, G-Sync, HDR 400, 120% sRGB, Som Integrado, Preto - AG254FG"
          ],
          [
           "Monitor Gamer Acer XR3 Nitro Series 34 2K QHD Curvo, 180Hz, 1ms, IPS, HDMI e DisplayPort, 98% DCI-P3, HDR, FreeSync Premium, VESA - XR343CK"
          ],
          [
           "Monitor Asus ROG Swift 27, 360Hz, 1ms, HDMI e DisplayPort, 135% sRGB, HDR, G-Sync, Altura Ajustável, VESA - PG27AQN"
          ],
          [
           "Monitor Asus Rog Swift 32 LED, 144Hz, 1ms, IPS, HDMI e DisplayPort, 160% sRGB, HDR, G-Sync, Altura Ajustável, VESA - PG32UQR"
          ],
          [
           "Monitor Gamer Aorus 43 4K UHD Quantum Dot, 144Hz, 1ms, HDR 1000, 97% DCI-P3, DisplayPort/HDMI/USB-C, Preto - FV43U"
          ],
          [
           "Monitor Gamer, E-sports Benq Xl2546k - 24.5 Polegadas 240hz, Dyac+"
          ],
          [
           "Monitor Gamer Samsung Odyssey 49 QLED, 120 Hz, Ultra Wide, DQHD, HDMI/DisplayPort, 125% sRGB, HDR 1000, Ajuste de Ângulo - LC49RG90SSLXZD"
          ],
          [
           "Monitor Gamer Curvo, Samsung Odyssey Rg90 49'' Preto, DqHD, Tela Super Ultrawide, 120hz, HDMI, Dp, Usb, Freesync Com Ajuste De Altura"
          ],
          [
           "Monitor Gamer Gigabyte 31.5 Polegadas, UHD, M32u Ae As Pivot, Vesa, 144HZ, HDMI, DP, USB Tipo-c"
          ],
          [
           "Monitor Gamer Aorus 31.5 IPS, 144 Hz, 4K UHD, 1ms, HDMI/DisplayPort/USB-C, HDR 400, 123% sRGB, Som Integrado by SABRE Hi-Fi - FI32U"
          ],
          [
           "Monitor Gamer Aorus 48 OLED, 120 Hz, 4K UHD, 1ms, HDMI/DisplayPort/USB-C, FreeSync Premium, HDR 10, 130% sRGB, Som Integrado - FO48U"
          ],
          [
           "Monitor Gamer Aorus 55 LED, 4K UHD, 120Hz, 2ms, HDMI e DisplayPort, 140% sRGB, HDR, FreeSync Premium - S55U"
          ],
          [
           "Monitor Gigabyte M28u, 28 Polegadas, UHD 4k, Ips, 144hz, 1ms, Srgb"
          ],
          [
           "Monitor Gamer Samsung With Quantum, DqHD Mini-led, 49 Polegadas - ls49ag950nlxzd"
          ],
          [
           "Monitor Gamer Samsung Odyssey Neo G9 49 MiniLED, 240Hz, 1ms, HDMI e DisplayPort, HDR, DQHD, FreeSync Premium PRO, Preto - LS49AG950NLXZD"
          ],
          [
           "Monitor Gigabyte M32uc, 32 Polegadas, UHD 4k, Curvo, 160hz, 1ms, Srgb"
          ],
          [
           "Monitor Samsung Odyssey Crg9, 49 Polegadas, Dual QHD, Curvo, 120Hz, 4Ms - LC49RG90SSLXZD"
          ],
          [
           "Monitor Gamer Samsung Odyssey G8 34 OLED QHD, 175Hz, 0.1ms, HDMI e DisplayPort/USB-C, FreeSync Premium, HDR, VESA - LS34BG850SLXZD"
          ],
          [
           "Monitor Asus Rog Swift 47.5 OLED, 138Hz, 0,1ms, HDMI e DisplayPort, 133% sRGB, HDR, G-Sync, Som Integrado, VESA - PG48UQ"
          ],
          [
           "Monitor Asus Rog Swift 41.5 OLED, 138Hz, 0,1ms, HDMI e DisplayPort, 133% sRGB, HDR, G-Sync, VESA - PG42UQ"
          ],
          [
           "Monitor Gamer Curvo Samsung Odyssey 49\" DQHD, Série G9, 240Hz, 1Ms, HDMI + DP, G-sync, Freesync - Lc49g95tsslxzd"
          ],
          [
           "Monitor Gamer Samsung Odyssey Ark Curvo 55 4K UHD LED, 165Hz, 1ms, HDMI e DisplayPort, FreeSync Premium, Ajuste de Altura - LS55BG970NLXZD"
          ],
          [
           "Monitor Samsung Odyssey NEO G9 57 DUHD, 240Hz, 1ms, HDMI, Display Port e USB, Freesync, Ajuste de Altura - LS57CG950NLXZD"
          ]
         ],
         "hovertemplate": "index=%{x}<br>PREÇO=%{y}<br>Produto=%{customdata[0]}<extra></extra>",
         "legendgroup": "",
         "line": {
          "color": "#636efa",
          "dash": "solid"
         },
         "marker": {
          "symbol": "circle"
         },
         "mode": "markers+lines",
         "name": "",
         "orientation": "v",
         "showlegend": false,
         "type": "scatter",
         "x": [
          0,
          1,
          2,
          3,
          4,
          5,
          6,
          7,
          8,
          9,
          10,
          11,
          12,
          13,
          14,
          15,
          16,
          17,
          18,
          19,
          20,
          21,
          22,
          23,
          24,
          25,
          26,
          27,
          28,
          29,
          30,
          31,
          32,
          33,
          34,
          35,
          36,
          37,
          38,
          39,
          40,
          41,
          42,
          43,
          44,
          45,
          46,
          47,
          48,
          49,
          50,
          51,
          52,
          53,
          54,
          55,
          56,
          57,
          58,
          59,
          60,
          61,
          62,
          63,
          64,
          65,
          66,
          67,
          68,
          69,
          70,
          71,
          72,
          73,
          74,
          75,
          76,
          77,
          78,
          79,
          80,
          81,
          82,
          83,
          84,
          85,
          86,
          87,
          88,
          89,
          90,
          91,
          92,
          93,
          94,
          95,
          96,
          97,
          98,
          99,
          100,
          101,
          102,
          103,
          104,
          105,
          106,
          107,
          108,
          109,
          110,
          111,
          112,
          113,
          114,
          115,
          116,
          117,
          118,
          119,
          120,
          121,
          122,
          123,
          124,
          125,
          126,
          127,
          128,
          129,
          130,
          131,
          132,
          133,
          134,
          135,
          136,
          137,
          138,
          139,
          140,
          141,
          142,
          143,
          144,
          145,
          146,
          147,
          148,
          149,
          150,
          151,
          152,
          153,
          154,
          155,
          156,
          157,
          158,
          159,
          160,
          161,
          162,
          163,
          164,
          165,
          166,
          167,
          168,
          169,
          170,
          171,
          172,
          173,
          174,
          175,
          176,
          177,
          178,
          179,
          180,
          181,
          182,
          183,
          184,
          185,
          186,
          187,
          188,
          189,
          190,
          191,
          192,
          193,
          194,
          195,
          196,
          197,
          198,
          199,
          200,
          201,
          202,
          203,
          204,
          205,
          206,
          207,
          208,
          209,
          210,
          211,
          212,
          213,
          214,
          215,
          216,
          217,
          218,
          219,
          220,
          221,
          222,
          223,
          224,
          225,
          226,
          227,
          228,
          229,
          230,
          231,
          232,
          233,
          234,
          235,
          236,
          237,
          238,
          239,
          240,
          241,
          242,
          243,
          244,
          245,
          246,
          247,
          248,
          249,
          250,
          251,
          252,
          253,
          254,
          255
         ],
         "xaxis": "x",
         "y": [
          289.9,
          296.1,
          375.14,
          399.6,
          415.21,
          419.9,
          419.9,
          449.1,
          459.99,
          472.89,
          483.14,
          491.92,
          500.9,
          510,
          591,
          593.1,
          619,
          632.9,
          640.47,
          656.1,
          659.99,
          674.1,
          699,
          699.3,
          702.53,
          703.8,
          726.9,
          729.99,
          748,
          759.99,
          759.99,
          765.56,
          768.51,
          787.49,
          799,
          800.1,
          809,
          809.1,
          827.9,
          829.99,
          845.1,
          849.99,
          849.99,
          859.99,
          875.8,
          879.99,
          898.9,
          899.99,
          899.99,
          899.99,
          920.55,
          924.45,
          924.9,
          926.91,
          929.9,
          939.9,
          944.35,
          949.9,
          949.91,
          955.4,
          959.99,
          959.99,
          971.1,
          988.99,
          989.1,
          990.81,
          994.1,
          995.06,
          997.19,
          999,
          999.99,
          999.99,
          1007.91,
          1029.99,
          1039.99,
          1044.05,
          1049.75,
          1059.99,
          1059.99,
          1071,
          1089.99,
          1089.99,
          1099.99,
          1099.99,
          1099.99,
          1114.35,
          1122.47,
          1140,
          1145.99,
          1149.99,
          1159.9,
          1161.57,
          1167.8,
          1180.45,
          1184.56,
          1189.99,
          1196.1,
          1199.99,
          1199.99,
          1199.99,
          1199.99,
          1229,
          1243.85,
          1249.99,
          1295.1,
          1299.9,
          1299.99,
          1299.99,
          1337.31,
          1359.99,
          1388.67,
          1389,
          1399.9,
          1399.99,
          1440.57,
          1447.67,
          1453.49,
          1459.99,
          1459.99,
          1461.99,
          1469,
          1478.11,
          1499.99,
          1518.1,
          1538.08,
          1549.99,
          1599.99,
          1599.99,
          1599.99,
          1599.99,
          1639.99,
          1658.61,
          1659.99,
          1678,
          1699.99,
          1699.99,
          1699.99,
          1699.99,
          1752.69,
          1789.9,
          1789.99,
          1799.99,
          1799.99,
          1889.9,
          1899,
          1899.9,
          1899.99,
          1915.2,
          1919.9,
          1919.9,
          1930.99,
          1947.51,
          1999,
          1999.99,
          1999.99,
          1999.99,
          2034.44,
          2099.99,
          2139.25,
          2159,
          2199.99,
          2199.99,
          2199.99,
          2259.99,
          2299.99,
          2299.99,
          2359.99,
          2369.61,
          2399.99,
          2429.9,
          2430.99,
          2449.9,
          2459.99,
          2469.05,
          2497.99,
          2499.99,
          2519.91,
          2583.99,
          2599,
          2599,
          2599.88,
          2699.99,
          2712.97,
          2737.9,
          2754.05,
          2770.99,
          2849.91,
          2999.99,
          3026.7,
          3089.99,
          3106.52,
          3189.99,
          3199.9,
          3199.9,
          3299.99,
          3310.9,
          3399.99,
          3425.18,
          3453.9,
          3476.49,
          3495.51,
          3499.99,
          3499.99,
          3518.99,
          3599,
          3599.99,
          3605.14,
          3692.61,
          3699.99,
          3766.9,
          3799.9,
          3990,
          3999.9,
          4199.99,
          4222.9,
          4299.99,
          4390,
          4399.99,
          4589.99,
          4691.61,
          4999.99,
          4999.99,
          5048.15,
          5599.99,
          5645.75,
          5799.99,
          5831.9,
          5909.9,
          5999.99,
          6125.9,
          6193.8,
          6425.71,
          6699.99,
          6799.99,
          6849.99,
          6999.99,
          6999.99,
          6999.99,
          7299,
          7599.99,
          7849.9,
          7858.9,
          7999.99,
          7999.99,
          8199.99,
          8269.9,
          8899.9,
          8899.99,
          9459.9,
          9799.9,
          9899.99,
          9899.99,
          9999.99,
          12999.9,
          17449.99,
          18999.99
         ],
         "yaxis": "y"
        }
       ],
       "layout": {
        "legend": {
         "tracegroupgap": 0
        },
        "template": {
         "data": {
          "bar": [
           {
            "error_x": {
             "color": "#2a3f5f"
            },
            "error_y": {
             "color": "#2a3f5f"
            },
            "marker": {
             "line": {
              "color": "#E5ECF6",
              "width": 0.5
             },
             "pattern": {
              "fillmode": "overlay",
              "size": 10,
              "solidity": 0.2
             }
            },
            "type": "bar"
           }
          ],
          "barpolar": [
           {
            "marker": {
             "line": {
              "color": "#E5ECF6",
              "width": 0.5
             },
             "pattern": {
              "fillmode": "overlay",
              "size": 10,
              "solidity": 0.2
             }
            },
            "type": "barpolar"
           }
          ],
          "carpet": [
           {
            "aaxis": {
             "endlinecolor": "#2a3f5f",
             "gridcolor": "white",
             "linecolor": "white",
             "minorgridcolor": "white",
             "startlinecolor": "#2a3f5f"
            },
            "baxis": {
             "endlinecolor": "#2a3f5f",
             "gridcolor": "white",
             "linecolor": "white",
             "minorgridcolor": "white",
             "startlinecolor": "#2a3f5f"
            },
            "type": "carpet"
           }
          ],
          "choropleth": [
           {
            "colorbar": {
             "outlinewidth": 0,
             "ticks": ""
            },
            "type": "choropleth"
           }
          ],
          "contour": [
           {
            "colorbar": {
             "outlinewidth": 0,
             "ticks": ""
            },
            "colorscale": [
             [
              0,
              "#0d0887"
             ],
             [
              0.1111111111111111,
              "#46039f"
             ],
             [
              0.2222222222222222,
              "#7201a8"
             ],
             [
              0.3333333333333333,
              "#9c179e"
             ],
             [
              0.4444444444444444,
              "#bd3786"
             ],
             [
              0.5555555555555556,
              "#d8576b"
             ],
             [
              0.6666666666666666,
              "#ed7953"
             ],
             [
              0.7777777777777778,
              "#fb9f3a"
             ],
             [
              0.8888888888888888,
              "#fdca26"
             ],
             [
              1,
              "#f0f921"
             ]
            ],
            "type": "contour"
           }
          ],
          "contourcarpet": [
           {
            "colorbar": {
             "outlinewidth": 0,
             "ticks": ""
            },
            "type": "contourcarpet"
           }
          ],
          "heatmap": [
           {
            "colorbar": {
             "outlinewidth": 0,
             "ticks": ""
            },
            "colorscale": [
             [
              0,
              "#0d0887"
             ],
             [
              0.1111111111111111,
              "#46039f"
             ],
             [
              0.2222222222222222,
              "#7201a8"
             ],
             [
              0.3333333333333333,
              "#9c179e"
             ],
             [
              0.4444444444444444,
              "#bd3786"
             ],
             [
              0.5555555555555556,
              "#d8576b"
             ],
             [
              0.6666666666666666,
              "#ed7953"
             ],
             [
              0.7777777777777778,
              "#fb9f3a"
             ],
             [
              0.8888888888888888,
              "#fdca26"
             ],
             [
              1,
              "#f0f921"
             ]
            ],
            "type": "heatmap"
           }
          ],
          "heatmapgl": [
           {
            "colorbar": {
             "outlinewidth": 0,
             "ticks": ""
            },
            "colorscale": [
             [
              0,
              "#0d0887"
             ],
             [
              0.1111111111111111,
              "#46039f"
             ],
             [
              0.2222222222222222,
              "#7201a8"
             ],
             [
              0.3333333333333333,
              "#9c179e"
             ],
             [
              0.4444444444444444,
              "#bd3786"
             ],
             [
              0.5555555555555556,
              "#d8576b"
             ],
             [
              0.6666666666666666,
              "#ed7953"
             ],
             [
              0.7777777777777778,
              "#fb9f3a"
             ],
             [
              0.8888888888888888,
              "#fdca26"
             ],
             [
              1,
              "#f0f921"
             ]
            ],
            "type": "heatmapgl"
           }
          ],
          "histogram": [
           {
            "marker": {
             "pattern": {
              "fillmode": "overlay",
              "size": 10,
              "solidity": 0.2
             }
            },
            "type": "histogram"
           }
          ],
          "histogram2d": [
           {
            "colorbar": {
             "outlinewidth": 0,
             "ticks": ""
            },
            "colorscale": [
             [
              0,
              "#0d0887"
             ],
             [
              0.1111111111111111,
              "#46039f"
             ],
             [
              0.2222222222222222,
              "#7201a8"
             ],
             [
              0.3333333333333333,
              "#9c179e"
             ],
             [
              0.4444444444444444,
              "#bd3786"
             ],
             [
              0.5555555555555556,
              "#d8576b"
             ],
             [
              0.6666666666666666,
              "#ed7953"
             ],
             [
              0.7777777777777778,
              "#fb9f3a"
             ],
             [
              0.8888888888888888,
              "#fdca26"
             ],
             [
              1,
              "#f0f921"
             ]
            ],
            "type": "histogram2d"
           }
          ],
          "histogram2dcontour": [
           {
            "colorbar": {
             "outlinewidth": 0,
             "ticks": ""
            },
            "colorscale": [
             [
              0,
              "#0d0887"
             ],
             [
              0.1111111111111111,
              "#46039f"
             ],
             [
              0.2222222222222222,
              "#7201a8"
             ],
             [
              0.3333333333333333,
              "#9c179e"
             ],
             [
              0.4444444444444444,
              "#bd3786"
             ],
             [
              0.5555555555555556,
              "#d8576b"
             ],
             [
              0.6666666666666666,
              "#ed7953"
             ],
             [
              0.7777777777777778,
              "#fb9f3a"
             ],
             [
              0.8888888888888888,
              "#fdca26"
             ],
             [
              1,
              "#f0f921"
             ]
            ],
            "type": "histogram2dcontour"
           }
          ],
          "mesh3d": [
           {
            "colorbar": {
             "outlinewidth": 0,
             "ticks": ""
            },
            "type": "mesh3d"
           }
          ],
          "parcoords": [
           {
            "line": {
             "colorbar": {
              "outlinewidth": 0,
              "ticks": ""
             }
            },
            "type": "parcoords"
           }
          ],
          "pie": [
           {
            "automargin": true,
            "type": "pie"
           }
          ],
          "scatter": [
           {
            "fillpattern": {
             "fillmode": "overlay",
             "size": 10,
             "solidity": 0.2
            },
            "type": "scatter"
           }
          ],
          "scatter3d": [
           {
            "line": {
             "colorbar": {
              "outlinewidth": 0,
              "ticks": ""
             }
            },
            "marker": {
             "colorbar": {
              "outlinewidth": 0,
              "ticks": ""
             }
            },
            "type": "scatter3d"
           }
          ],
          "scattercarpet": [
           {
            "marker": {
             "colorbar": {
              "outlinewidth": 0,
              "ticks": ""
             }
            },
            "type": "scattercarpet"
           }
          ],
          "scattergeo": [
           {
            "marker": {
             "colorbar": {
              "outlinewidth": 0,
              "ticks": ""
             }
            },
            "type": "scattergeo"
           }
          ],
          "scattergl": [
           {
            "marker": {
             "colorbar": {
              "outlinewidth": 0,
              "ticks": ""
             }
            },
            "type": "scattergl"
           }
          ],
          "scattermapbox": [
           {
            "marker": {
             "colorbar": {
              "outlinewidth": 0,
              "ticks": ""
             }
            },
            "type": "scattermapbox"
           }
          ],
          "scatterpolar": [
           {
            "marker": {
             "colorbar": {
              "outlinewidth": 0,
              "ticks": ""
             }
            },
            "type": "scatterpolar"
           }
          ],
          "scatterpolargl": [
           {
            "marker": {
             "colorbar": {
              "outlinewidth": 0,
              "ticks": ""
             }
            },
            "type": "scatterpolargl"
           }
          ],
          "scatterternary": [
           {
            "marker": {
             "colorbar": {
              "outlinewidth": 0,
              "ticks": ""
             }
            },
            "type": "scatterternary"
           }
          ],
          "surface": [
           {
            "colorbar": {
             "outlinewidth": 0,
             "ticks": ""
            },
            "colorscale": [
             [
              0,
              "#0d0887"
             ],
             [
              0.1111111111111111,
              "#46039f"
             ],
             [
              0.2222222222222222,
              "#7201a8"
             ],
             [
              0.3333333333333333,
              "#9c179e"
             ],
             [
              0.4444444444444444,
              "#bd3786"
             ],
             [
              0.5555555555555556,
              "#d8576b"
             ],
             [
              0.6666666666666666,
              "#ed7953"
             ],
             [
              0.7777777777777778,
              "#fb9f3a"
             ],
             [
              0.8888888888888888,
              "#fdca26"
             ],
             [
              1,
              "#f0f921"
             ]
            ],
            "type": "surface"
           }
          ],
          "table": [
           {
            "cells": {
             "fill": {
              "color": "#EBF0F8"
             },
             "line": {
              "color": "white"
             }
            },
            "header": {
             "fill": {
              "color": "#C8D4E3"
             },
             "line": {
              "color": "white"
             }
            },
            "type": "table"
           }
          ]
         },
         "layout": {
          "annotationdefaults": {
           "arrowcolor": "#2a3f5f",
           "arrowhead": 0,
           "arrowwidth": 1
          },
          "autotypenumbers": "strict",
          "coloraxis": {
           "colorbar": {
            "outlinewidth": 0,
            "ticks": ""
           }
          },
          "colorscale": {
           "diverging": [
            [
             0,
             "#8e0152"
            ],
            [
             0.1,
             "#c51b7d"
            ],
            [
             0.2,
             "#de77ae"
            ],
            [
             0.3,
             "#f1b6da"
            ],
            [
             0.4,
             "#fde0ef"
            ],
            [
             0.5,
             "#f7f7f7"
            ],
            [
             0.6,
             "#e6f5d0"
            ],
            [
             0.7,
             "#b8e186"
            ],
            [
             0.8,
             "#7fbc41"
            ],
            [
             0.9,
             "#4d9221"
            ],
            [
             1,
             "#276419"
            ]
           ],
           "sequential": [
            [
             0,
             "#0d0887"
            ],
            [
             0.1111111111111111,
             "#46039f"
            ],
            [
             0.2222222222222222,
             "#7201a8"
            ],
            [
             0.3333333333333333,
             "#9c179e"
            ],
            [
             0.4444444444444444,
             "#bd3786"
            ],
            [
             0.5555555555555556,
             "#d8576b"
            ],
            [
             0.6666666666666666,
             "#ed7953"
            ],
            [
             0.7777777777777778,
             "#fb9f3a"
            ],
            [
             0.8888888888888888,
             "#fdca26"
            ],
            [
             1,
             "#f0f921"
            ]
           ],
           "sequentialminus": [
            [
             0,
             "#0d0887"
            ],
            [
             0.1111111111111111,
             "#46039f"
            ],
            [
             0.2222222222222222,
             "#7201a8"
            ],
            [
             0.3333333333333333,
             "#9c179e"
            ],
            [
             0.4444444444444444,
             "#bd3786"
            ],
            [
             0.5555555555555556,
             "#d8576b"
            ],
            [
             0.6666666666666666,
             "#ed7953"
            ],
            [
             0.7777777777777778,
             "#fb9f3a"
            ],
            [
             0.8888888888888888,
             "#fdca26"
            ],
            [
             1,
             "#f0f921"
            ]
           ]
          },
          "colorway": [
           "#636efa",
           "#EF553B",
           "#00cc96",
           "#ab63fa",
           "#FFA15A",
           "#19d3f3",
           "#FF6692",
           "#B6E880",
           "#FF97FF",
           "#FECB52"
          ],
          "font": {
           "color": "#2a3f5f"
          },
          "geo": {
           "bgcolor": "white",
           "lakecolor": "white",
           "landcolor": "#E5ECF6",
           "showlakes": true,
           "showland": true,
           "subunitcolor": "white"
          },
          "hoverlabel": {
           "align": "left"
          },
          "hovermode": "closest",
          "mapbox": {
           "style": "light"
          },
          "paper_bgcolor": "white",
          "plot_bgcolor": "#E5ECF6",
          "polar": {
           "angularaxis": {
            "gridcolor": "white",
            "linecolor": "white",
            "ticks": ""
           },
           "bgcolor": "#E5ECF6",
           "radialaxis": {
            "gridcolor": "white",
            "linecolor": "white",
            "ticks": ""
           }
          },
          "scene": {
           "xaxis": {
            "backgroundcolor": "#E5ECF6",
            "gridcolor": "white",
            "gridwidth": 2,
            "linecolor": "white",
            "showbackground": true,
            "ticks": "",
            "zerolinecolor": "white"
           },
           "yaxis": {
            "backgroundcolor": "#E5ECF6",
            "gridcolor": "white",
            "gridwidth": 2,
            "linecolor": "white",
            "showbackground": true,
            "ticks": "",
            "zerolinecolor": "white"
           },
           "zaxis": {
            "backgroundcolor": "#E5ECF6",
            "gridcolor": "white",
            "gridwidth": 2,
            "linecolor": "white",
            "showbackground": true,
            "ticks": "",
            "zerolinecolor": "white"
           }
          },
          "shapedefaults": {
           "line": {
            "color": "#2a3f5f"
           }
          },
          "ternary": {
           "aaxis": {
            "gridcolor": "white",
            "linecolor": "white",
            "ticks": ""
           },
           "baxis": {
            "gridcolor": "white",
            "linecolor": "white",
            "ticks": ""
           },
           "bgcolor": "#E5ECF6",
           "caxis": {
            "gridcolor": "white",
            "linecolor": "white",
            "ticks": ""
           }
          },
          "title": {
           "x": 0.05
          },
          "xaxis": {
           "automargin": true,
           "gridcolor": "white",
           "linecolor": "white",
           "ticks": "",
           "title": {
            "standoff": 15
           },
           "zerolinecolor": "white",
           "zerolinewidth": 2
          },
          "yaxis": {
           "automargin": true,
           "gridcolor": "white",
           "linecolor": "white",
           "ticks": "",
           "title": {
            "standoff": 15
           },
           "zerolinecolor": "white",
           "zerolinewidth": 2
          }
         }
        },
        "title": {
         "text": "BENCHMARK DE PREÇOS DE MONITORES GAMER - KABUM"
        },
        "xaxis": {
         "anchor": "y",
         "domain": [
          0,
          1
         ],
         "title": {
          "text": "index"
         }
        },
        "yaxis": {
         "anchor": "x",
         "domain": [
          0,
          1
         ],
         "title": {
          "text": "PREÇO"
         }
        }
       }
      }
     },
     "metadata": {},
     "output_type": "display_data"
    },
    {
     "data": {
      "text/plain": [
       "'temp-plot.html'"
      ]
     },
     "execution_count": 5,
     "metadata": {},
     "output_type": "execute_result"
    }
   ],
   "source": [
    "# ----------------------------------------------- ABRINDO A PLANILHA ----------------------------------------------- #\n",
    "\n",
    "# Abrindo a planilha\n",
    "wb = openpyxl.load_workbook('database.xlsx')\n",
    "\n",
    "# Acessando a página 'produtos'\n",
    "sheet_produtos = wb['monitores']\n",
    "\n",
    "# ---------------------------------------- ORDENANDO OS DADOS PARA O GRÁFICO ---------------------------------------- #\n",
    "\n",
    "# Criando uma lista para armazenar os produtos (nome, preço)\n",
    "produtos = []\n",
    "\n",
    "# Inserindo os produtos na lista (OBS.: zip() é uma função que permite iterar sobre duas listas ao mesmo tempo)\n",
    "for title, price in zip(sheet_produtos['A'][1:], sheet_produtos['B'][1:]):\n",
    "  produtos.append([title.value, price.value])\n",
    "\n",
    "# Ordenando a lista de produtos pelo preço (crescente)\n",
    "produtos.sort(key=lambda produto: produto[1]) # key = lambda é um parâmetro que permite ordenar a lista por um valor específico, nesse caso o preço\n",
    " \n",
    "# exibindo a lista de produtos com quebra de linha\n",
    "#for produto in produtos:\n",
    "# print(produto[0], produto[1], '\\n')\n",
    "\n",
    "# -------------------------------------------------- GERANDO O GRÁFICO -------------------------------------------------- #\n",
    "\n",
    "# Criando um dataframe com os dados da lista de produtos\n",
    "df = pd.DataFrame(produtos, columns=['Produto', 'Preço Promocional'])\n",
    "\n",
    "# Gerando o gráfico de linhas\n",
    "fig = px.line(\n",
    "    df, \n",
    "    x = df.index,\n",
    "    y = 'Preço Promocional',\n",
    "    labels={'x': 'PRODUTO', 'Preço Promocional': 'PREÇO'},\n",
    "    hover_data=['Produto'],\n",
    "    markers=True,\n",
    "    #color = 'Produto',\n",
    "    title = 'BENCHMARK DE PREÇOS DE MONITORES GAMER - KABUM',\n",
    ")\n",
    "\n",
    "fig.show()\n",
    "\n",
    "# Baixando o gráfico\n",
    "plotly.offline.plot(fig)"
   ]
  }
 ],
 "metadata": {
  "kernelspec": {
   "display_name": "Python 3",
   "language": "python",
   "name": "python3"
  },
  "language_info": {
   "codemirror_mode": {
    "name": "ipython",
    "version": 3
   },
   "file_extension": ".py",
   "mimetype": "text/x-python",
   "name": "python",
   "nbconvert_exporter": "python",
   "pygments_lexer": "ipython3",
   "version": "3.10.12"
  }
 },
 "nbformat": 4,
 "nbformat_minor": 2
}
