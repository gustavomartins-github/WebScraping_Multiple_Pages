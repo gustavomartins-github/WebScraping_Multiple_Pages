{
 "cells": [
  {
   "cell_type": "code",
   "execution_count": 2,
   "metadata": {},
   "outputs": [
    {
     "name": "stdout",
     "output_type": "stream",
     "text": [
      "Defaulting to user installation because normal site-packages is not writeable\n",
      "Requirement already satisfied: requests in /home/gumeta/.local/lib/python3.10/site-packages (2.31.0)\n",
      "Requirement already satisfied: certifi>=2017.4.17 in /home/gumeta/.local/lib/python3.10/site-packages (from requests) (2023.7.22)\n",
      "Requirement already satisfied: urllib3<3,>=1.21.1 in /usr/lib/python3/dist-packages (from requests) (1.26.5)\n",
      "Requirement already satisfied: charset-normalizer<4,>=2 in /home/gumeta/.local/lib/python3.10/site-packages (from requests) (3.2.0)\n",
      "Requirement already satisfied: idna<4,>=2.5 in /usr/lib/python3/dist-packages (from requests) (3.3)\n",
      "Defaulting to user installation because normal site-packages is not writeable\n",
      "Collecting bs4\n",
      "  Downloading bs4-0.0.1.tar.gz (1.1 kB)\n",
      "  Preparing metadata (setup.py) ... \u001b[?25ldone\n",
      "\u001b[?25hRequirement already satisfied: beautifulsoup4 in /home/gumeta/.local/lib/python3.10/site-packages (from bs4) (4.12.2)\n",
      "Requirement already satisfied: soupsieve>1.2 in /home/gumeta/.local/lib/python3.10/site-packages (from beautifulsoup4->bs4) (2.5)\n",
      "Building wheels for collected packages: bs4\n",
      "  Building wheel for bs4 (setup.py) ... \u001b[?25ldone\n",
      "\u001b[?25h  Created wheel for bs4: filename=bs4-0.0.1-py3-none-any.whl size=1272 sha256=4477ed5cc65d5339226798e4cf967348ee6289618e1e73835ef86cf10e45ea04\n",
      "  Stored in directory: /home/gumeta/.cache/pip/wheels/25/42/45/b773edc52acb16cd2db4cf1a0b47117e2f69bb4eb300ed0e70\n",
      "Successfully built bs4\n",
      "Installing collected packages: bs4\n",
      "Successfully installed bs4-0.0.1\n"
     ]
    }
   ],
   "source": [
    "!pip3 install requests\n",
    "!pip3 install bs4"
   ]
  },
  {
   "cell_type": "code",
   "execution_count": 48,
   "metadata": {},
   "outputs": [],
   "source": [
    "import requests\n",
    "from bs4 import BeautifulSoup"
   ]
  },
  {
   "cell_type": "code",
   "execution_count": 49,
   "metadata": {},
   "outputs": [],
   "source": [
    "# URL do site que será feito o scraping\n",
    "url = 'https://www.kabum.com.br/computadores/monitores/monitor-gamer'\n",
    "\n",
    "# Essa linha é necessária para que o site não bloqueie a requisição por ser um bot\n",
    "headers = {'User-Agent': \"Mozilla/5.0 (X11; Linux x86_64) AppleWebKit/537.36 (KHTML, like Gecko) Chrome/118.0.0.0 Safari/537.36\"}"
   ]
  },
  {
   "cell_type": "code",
   "execution_count": 50,
   "metadata": {},
   "outputs": [],
   "source": [
    "# Função para coletar o link da proxima pagina\n",
    "def next_page(soup):\n",
    "    # Ir na ultima pagina com o botao proximo desabilitado\n",
    "    if not soup.find( 'li', {'class' : 'next disabled'} ):\n",
    "        next = soup.find('link', {'rel': 'next'})\n",
    "        return next['href'].replace('?', '/computadores/monitores?')\n",
    "    else:\n",
    "        return None"
   ]
  },
  {
   "cell_type": "code",
   "execution_count": 51,
   "metadata": {},
   "outputs": [
    {
     "name": "stdout",
     "output_type": "stream",
     "text": [
      "https://www.kabum.com.br/computadores/monitores?page_number=2\n",
      "https://www.kabum.com.br/computadores/monitores?page_number=3\n",
      "https://www.kabum.com.br/computadores/monitores?page_number=4\n",
      "https://www.kabum.com.br/computadores/monitores?page_number=5\n",
      "https://www.kabum.com.br/computadores/monitores?page_number=6\n",
      "https://www.kabum.com.br/computadores/monitores?page_number=7\n",
      "https://www.kabum.com.br/computadores/monitores?page_number=8\n",
      "https://www.kabum.com.br/computadores/monitores?page_number=9\n",
      "https://www.kabum.com.br/computadores/monitores?page_number=10\n",
      "https://www.kabum.com.br/computadores/monitores?page_number=11\n",
      "https://www.kabum.com.br/computadores/monitores?page_number=12\n",
      "https://www.kabum.com.br/computadores/monitores?page_number=13\n",
      "https://www.kabum.com.br/computadores/monitores?page_number=14\n",
      "https://www.kabum.com.br/computadores/monitores?page_number=15\n",
      "https://www.kabum.com.br/computadores/monitores?page_number=16\n",
      "https://www.kabum.com.br/computadores/monitores?page_number=17\n",
      "https://www.kabum.com.br/computadores/monitores?page_number=18\n",
      "https://www.kabum.com.br/computadores/monitores?page_number=19\n",
      "https://www.kabum.com.br/computadores/monitores?page_number=20\n",
      "https://www.kabum.com.br/computadores/monitores?page_number=21\n",
      "https://www.kabum.com.br/computadores/monitores?page_number=22\n",
      "https://www.kabum.com.br/computadores/monitores?page_number=23\n",
      "https://www.kabum.com.br/computadores/monitores?page_number=24\n",
      "https://www.kabum.com.br/computadores/monitores?page_number=25\n",
      "https://www.kabum.com.br/computadores/monitores?page_number=26\n",
      "https://www.kabum.com.br/computadores/monitores?page_number=27\n",
      "https://www.kabum.com.br/computadores/monitores?page_number=28\n",
      "https://www.kabum.com.br/computadores/monitores?page_number=29\n",
      "https://www.kabum.com.br/computadores/monitores?page_number=30\n",
      "https://www.kabum.com.br/computadores/monitores?page_number=31\n",
      "https://www.kabum.com.br/computadores/monitores?page_number=32\n",
      "https://www.kabum.com.br/computadores/monitores?page_number=33\n",
      "https://www.kabum.com.br/computadores/monitores?page_number=34\n",
      "https://www.kabum.com.br/computadores/monitores?page_number=35\n",
      "https://www.kabum.com.br/computadores/monitores?page_number=36\n",
      "https://www.kabum.com.br/computadores/monitores?page_number=37\n",
      "https://www.kabum.com.br/computadores/monitores?page_number=38\n",
      "https://www.kabum.com.br/computadores/monitores?page_number=39\n",
      "https://www.kabum.com.br/computadores/monitores?page_number=40\n",
      "https://www.kabum.com.br/computadores/monitores?page_number=41\n",
      "https://www.kabum.com.br/computadores/monitores?page_number=42\n",
      "None\n"
     ]
    }
   ],
   "source": [
    "\n",
    "while True:\n",
    "    \n",
    "    # Faz a requisição do site e armazena o conteúdo na variável site\n",
    "    site = requests.get(url, headers = headers)\n",
    "\n",
    "    # Transforma o conteúdo do site (html) em um objeto BeautifulSoup\n",
    "    soup = BeautifulSoup(site.content, 'html.parser')\n",
    "\n",
    "    # Recebe o link da proxima pagina\n",
    "    url = next_page(soup)\n",
    "    print(url)\n",
    "    if url == None:\n",
    "        break"
   ]
  }
 ],
 "metadata": {
  "kernelspec": {
   "display_name": "Python 3",
   "language": "python",
   "name": "python3"
  },
  "language_info": {
   "codemirror_mode": {
    "name": "ipython",
    "version": 3
   },
   "file_extension": ".py",
   "mimetype": "text/x-python",
   "name": "python",
   "nbconvert_exporter": "python",
   "pygments_lexer": "ipython3",
   "version": "3.10.12"
  }
 },
 "nbformat": 4,
 "nbformat_minor": 2
}
